{
 "cells": [
  {
   "cell_type": "code",
   "execution_count": 1,
   "metadata": {},
   "outputs": [
    {
     "name": "stdout",
     "output_type": "stream",
     "text": [
      "H0 : μ = 558\n",
      "H1 : μ != 558\n",
      "alpha value is : 0.05 \n",
      "\n",
      "actual z value : 1.9599639845400545\n",
      "hypothesis z value : 1.9424460431654675 \n",
      "\n",
      "Failed to reject NULL hypothesis\n"
     ]
    }
   ],
   "source": [
    "from scipy.stats import norm # Import the normal distribution functions from SciPy\n",
    "from math import sqrt # Import the square root function from the math module\n",
    "def two_sided_hypo(sample_mean, pop_mean, std_dev, sample_size, alpha):\n",
    "    # Calculate the critical z-value for a two-tailed test\n",
    "    actual_z = abs(norm.ppf(alpha / 2)) # Get the z-value corresponding to alpha/2\n",
    "    # Calculate the z-value for the hypothesis test\n",
    "    hypo_z = (sample_mean - pop_mean) / (std_dev / sqrt(sample_size)) # Z-test statistic\n",
    "    print('actual z value :', actual_z) # Print the actual critical z-value\n",
    "    print('hypothesis z value :', hypo_z, '\\n') # Print the calculated z-value for the hypothesis\n",
    "    # Check if the calculated z-value falls into the rejection region\n",
    "    if hypo_z >= actual_z or hypo_z <= -actual_z:\n",
    "        return True # Reject the null hypothesis\n",
    "    else:\n",
    "        return False # Fail to reject the null hypothesis\n",
    "# Define parameters for the hypothesis test\n",
    "alpha = 0.05 # Significance level\n",
    "sample_mean = 585 # Mean of the sample\n",
    "pop_mean = 558 # Population mean under the null hypothesis\n",
    "sample_size = 100 # Sample size\n",
    "std_dev = 139 # Standard deviation of the population\n",
    "# Print hypotheses\n",
    "print('H0 : μ =', pop_mean) # Null hypothesis: population mean is equal to pop_mean\n",
    "print('H1 : μ !=', pop_mean) # Alternative hypothesis: population mean is not equal to pop_mean\n",
    "print('alpha value is :', alpha, '\\n') # Print the significance level\n",
    "# Perform the two-sided hypothesis test\n",
    "reject = two_sided_hypo(sample_mean, pop_mean, std_dev, sample_size, alpha)\n",
    "if reject:\n",
    "    print('Reject NULL hypothesis') # If the test result indicates rejection\n",
    "else:\n",
    "    print('Failed to reject NULL hypothesis') # If the test result does not indicate rejection"
   ]
  },
  {
   "cell_type": "code",
   "execution_count": 2,
   "metadata": {},
   "outputs": [
    {
     "name": "stdout",
     "output_type": "stream",
     "text": [
      "H0 : μ <= 100\n",
      "H1 : μ > 100\n",
      "alpha value is : 0.05 \n",
      "\n",
      "actual z value : 1.6448536269514729\n",
      "hypothesis z value : 3.2 \n",
      "\n",
      "Reject NULL hypothesis\n"
     ]
    }
   ],
   "source": [
    "# One-sided hypothesis test (for greater than in the null hypothesis)\n",
    "def one_sided_hypo(sample_mean, pop_mean, std_dev, sample_size, alpha):\n",
    "    # Calculate the critical z-value for a one-tailed test\n",
    "    actual_z = abs(norm.ppf(alpha)) # Get the z-value corresponding to alpha\n",
    "    # Calculate the z-value for the hypothesis test\n",
    "    hypo_z = (sample_mean - pop_mean) / (std_dev / sqrt(sample_size)) # Z-test statistic\n",
    "    print('actual z value :', actual_z) # Print the actual critical z-value\n",
    "    print('hypothesis z value :', hypo_z, '\\n') # Print the calculated z-value for the hypothesis\n",
    "    # Check if the calculated z-value falls into the rejection region\n",
    "    if hypo_z >= actual_z:\n",
    "        return True # Reject the null hypothesis\n",
    "    else:\n",
    "        return False # Fail to reject the null hypothesis\n",
    "# Define parameters for the one-sided hypothesis test\n",
    "alpha = 0.05 # Significance level\n",
    "sample_mean = 108 # Mean of the sample\n",
    "pop_mean = 100 # Population mean under the null hypothesis\n",
    "sample_size = 36 # Sample size\n",
    "std_dev = 15 # Standard deviation of the population\n",
    "# Print hypotheses\n",
    "print('H0 : μ <=', pop_mean) # Null hypothesis: population mean is less than or equal to pop_mean\n",
    "print('H1 : μ >', pop_mean) # Alternative hypothesis: population mean is greater than pop_mean\n",
    "print('alpha value is :', alpha, '\\n') # Print the significance level\n",
    "# Perform the one-sided hypothesis test\n",
    "reject = one_sided_hypo(sample_mean, pop_mean, std_dev, sample_size, alpha)\n",
    "if reject:\n",
    "    print('Reject NULL hypothesis') # If the test result indicates rejection\n",
    "else:\n",
    "    print('Failed to reject NULL hypothesis') # If the test result does not indicate rejection"
   ]
  }
 ],
 "metadata": {
  "kernelspec": {
   "display_name": "Python 3",
   "language": "python",
   "name": "python3"
  },
  "language_info": {
   "codemirror_mode": {
    "name": "ipython",
    "version": 3
   },
   "file_extension": ".py",
   "mimetype": "text/x-python",
   "name": "python",
   "nbconvert_exporter": "python",
   "pygments_lexer": "ipython3",
   "version": "3.11.6"
  }
 },
 "nbformat": 4,
 "nbformat_minor": 2
}
